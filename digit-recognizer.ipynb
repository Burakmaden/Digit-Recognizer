{
 "cells": [
  {
   "cell_type": "code",
   "execution_count": 1,
   "metadata": {
    "_cell_guid": "b1076dfc-b9ad-4769-8c92-a6c4dae69d19",
    "_uuid": "8f2839f25d086af736a60e9eeb907d3b93b6e0e5"
   },
   "outputs": [
    {
     "name": "stderr",
     "output_type": "stream",
     "text": [
      "Using TensorFlow backend.\n"
     ]
    },
    {
     "name": "stdout",
     "output_type": "stream",
     "text": [
      "/kaggle/input/digit-recognizer/test.csv\n",
      "/kaggle/input/digit-recognizer/train.csv\n",
      "/kaggle/input/digit-recognizer/sample_submission.csv\n"
     ]
    }
   ],
   "source": [
    "import numpy as np # linear algebra\n",
    "import pandas as pd # data processing, CSV file I/O (e.g. pd.read_csv)\n",
    "import matplotlib.pyplot as plt\n",
    "from sklearn.preprocessing import MinMaxScaler\n",
    "from sklearn.model_selection import train_test_split\n",
    "\n",
    "from sklearn.metrics import confusion_matrix\n",
    "import keras\n",
    "import cv2\n",
    "from skimage.filters import roberts, sobel\n",
    "\n",
    "from keras.utils.np_utils import to_categorical # convert to one-hot-encoding\n",
    "from keras.models import Sequential\n",
    "from keras.layers import Dense, Dropout, Flatten, Conv2D, MaxPool2D, BatchNormalization, LeakyReLU\n",
    "from keras.optimizers import RMSprop,Adam\n",
    "from keras.preprocessing.image import ImageDataGenerator\n",
    "\n",
    "import os\n",
    "for dirname, _, filenames in os.walk('/kaggle/input'):\n",
    "    for filename in filenames:\n",
    "        print(os.path.join(dirname, filename))\n",
    "\n",
    "# Any results you write to the current directory are saved as output."
   ]
  },
  {
   "cell_type": "code",
   "execution_count": 2,
   "metadata": {},
   "outputs": [
    {
     "data": {
      "text/html": [
       "<div>\n",
       "<style scoped>\n",
       "    .dataframe tbody tr th:only-of-type {\n",
       "        vertical-align: middle;\n",
       "    }\n",
       "\n",
       "    .dataframe tbody tr th {\n",
       "        vertical-align: top;\n",
       "    }\n",
       "\n",
       "    .dataframe thead th {\n",
       "        text-align: right;\n",
       "    }\n",
       "</style>\n",
       "<table border=\"1\" class=\"dataframe\">\n",
       "  <thead>\n",
       "    <tr style=\"text-align: right;\">\n",
       "      <th></th>\n",
       "      <th>label</th>\n",
       "      <th>pixel0</th>\n",
       "      <th>pixel1</th>\n",
       "      <th>pixel2</th>\n",
       "      <th>pixel3</th>\n",
       "      <th>pixel4</th>\n",
       "      <th>pixel5</th>\n",
       "      <th>pixel6</th>\n",
       "      <th>pixel7</th>\n",
       "      <th>pixel8</th>\n",
       "      <th>...</th>\n",
       "      <th>pixel774</th>\n",
       "      <th>pixel775</th>\n",
       "      <th>pixel776</th>\n",
       "      <th>pixel777</th>\n",
       "      <th>pixel778</th>\n",
       "      <th>pixel779</th>\n",
       "      <th>pixel780</th>\n",
       "      <th>pixel781</th>\n",
       "      <th>pixel782</th>\n",
       "      <th>pixel783</th>\n",
       "    </tr>\n",
       "  </thead>\n",
       "  <tbody>\n",
       "    <tr>\n",
       "      <td>0</td>\n",
       "      <td>1</td>\n",
       "      <td>0</td>\n",
       "      <td>0</td>\n",
       "      <td>0</td>\n",
       "      <td>0</td>\n",
       "      <td>0</td>\n",
       "      <td>0</td>\n",
       "      <td>0</td>\n",
       "      <td>0</td>\n",
       "      <td>0</td>\n",
       "      <td>...</td>\n",
       "      <td>0</td>\n",
       "      <td>0</td>\n",
       "      <td>0</td>\n",
       "      <td>0</td>\n",
       "      <td>0</td>\n",
       "      <td>0</td>\n",
       "      <td>0</td>\n",
       "      <td>0</td>\n",
       "      <td>0</td>\n",
       "      <td>0</td>\n",
       "    </tr>\n",
       "    <tr>\n",
       "      <td>1</td>\n",
       "      <td>0</td>\n",
       "      <td>0</td>\n",
       "      <td>0</td>\n",
       "      <td>0</td>\n",
       "      <td>0</td>\n",
       "      <td>0</td>\n",
       "      <td>0</td>\n",
       "      <td>0</td>\n",
       "      <td>0</td>\n",
       "      <td>0</td>\n",
       "      <td>...</td>\n",
       "      <td>0</td>\n",
       "      <td>0</td>\n",
       "      <td>0</td>\n",
       "      <td>0</td>\n",
       "      <td>0</td>\n",
       "      <td>0</td>\n",
       "      <td>0</td>\n",
       "      <td>0</td>\n",
       "      <td>0</td>\n",
       "      <td>0</td>\n",
       "    </tr>\n",
       "    <tr>\n",
       "      <td>2</td>\n",
       "      <td>1</td>\n",
       "      <td>0</td>\n",
       "      <td>0</td>\n",
       "      <td>0</td>\n",
       "      <td>0</td>\n",
       "      <td>0</td>\n",
       "      <td>0</td>\n",
       "      <td>0</td>\n",
       "      <td>0</td>\n",
       "      <td>0</td>\n",
       "      <td>...</td>\n",
       "      <td>0</td>\n",
       "      <td>0</td>\n",
       "      <td>0</td>\n",
       "      <td>0</td>\n",
       "      <td>0</td>\n",
       "      <td>0</td>\n",
       "      <td>0</td>\n",
       "      <td>0</td>\n",
       "      <td>0</td>\n",
       "      <td>0</td>\n",
       "    </tr>\n",
       "    <tr>\n",
       "      <td>3</td>\n",
       "      <td>4</td>\n",
       "      <td>0</td>\n",
       "      <td>0</td>\n",
       "      <td>0</td>\n",
       "      <td>0</td>\n",
       "      <td>0</td>\n",
       "      <td>0</td>\n",
       "      <td>0</td>\n",
       "      <td>0</td>\n",
       "      <td>0</td>\n",
       "      <td>...</td>\n",
       "      <td>0</td>\n",
       "      <td>0</td>\n",
       "      <td>0</td>\n",
       "      <td>0</td>\n",
       "      <td>0</td>\n",
       "      <td>0</td>\n",
       "      <td>0</td>\n",
       "      <td>0</td>\n",
       "      <td>0</td>\n",
       "      <td>0</td>\n",
       "    </tr>\n",
       "    <tr>\n",
       "      <td>4</td>\n",
       "      <td>0</td>\n",
       "      <td>0</td>\n",
       "      <td>0</td>\n",
       "      <td>0</td>\n",
       "      <td>0</td>\n",
       "      <td>0</td>\n",
       "      <td>0</td>\n",
       "      <td>0</td>\n",
       "      <td>0</td>\n",
       "      <td>0</td>\n",
       "      <td>...</td>\n",
       "      <td>0</td>\n",
       "      <td>0</td>\n",
       "      <td>0</td>\n",
       "      <td>0</td>\n",
       "      <td>0</td>\n",
       "      <td>0</td>\n",
       "      <td>0</td>\n",
       "      <td>0</td>\n",
       "      <td>0</td>\n",
       "      <td>0</td>\n",
       "    </tr>\n",
       "  </tbody>\n",
       "</table>\n",
       "<p>5 rows × 785 columns</p>\n",
       "</div>"
      ],
      "text/plain": [
       "   label  pixel0  pixel1  pixel2  pixel3  pixel4  pixel5  pixel6  pixel7  \\\n",
       "0      1       0       0       0       0       0       0       0       0   \n",
       "1      0       0       0       0       0       0       0       0       0   \n",
       "2      1       0       0       0       0       0       0       0       0   \n",
       "3      4       0       0       0       0       0       0       0       0   \n",
       "4      0       0       0       0       0       0       0       0       0   \n",
       "\n",
       "   pixel8  ...  pixel774  pixel775  pixel776  pixel777  pixel778  pixel779  \\\n",
       "0       0  ...         0         0         0         0         0         0   \n",
       "1       0  ...         0         0         0         0         0         0   \n",
       "2       0  ...         0         0         0         0         0         0   \n",
       "3       0  ...         0         0         0         0         0         0   \n",
       "4       0  ...         0         0         0         0         0         0   \n",
       "\n",
       "   pixel780  pixel781  pixel782  pixel783  \n",
       "0         0         0         0         0  \n",
       "1         0         0         0         0  \n",
       "2         0         0         0         0  \n",
       "3         0         0         0         0  \n",
       "4         0         0         0         0  \n",
       "\n",
       "[5 rows x 785 columns]"
      ]
     },
     "execution_count": 2,
     "metadata": {},
     "output_type": "execute_result"
    }
   ],
   "source": [
    "train_data = pd.read_csv(\"/kaggle/input/digit-recognizer/train.csv\")\n",
    "train_data.head()"
   ]
  },
  {
   "cell_type": "code",
   "execution_count": 3,
   "metadata": {},
   "outputs": [
    {
     "name": "stdout",
     "output_type": "stream",
     "text": [
      "X_train (42000, 784)\n",
      "y_train (42000, 10)\n"
     ]
    }
   ],
   "source": [
    "scaler = MinMaxScaler()\n",
    "X = train_data.drop(['label'],1)\n",
    "# X = scaler.fit_transform(X)\n",
    "y = train_data['label']\n",
    "y = to_categorical(y, num_classes=10)\n",
    "print(\"X_train\", X.shape)\n",
    "print(\"y_train\", y.shape)"
   ]
  },
  {
   "cell_type": "code",
   "execution_count": 4,
   "metadata": {},
   "outputs": [
    {
     "name": "stdout",
     "output_type": "stream",
     "text": [
      "Test data:  (28000, 784)\n"
     ]
    }
   ],
   "source": [
    "test_data = pd.read_csv(\"/kaggle/input/digit-recognizer/test.csv\")\n",
    "# test_data = scaler.fit_transform(test_data)\n",
    "print(\"Test data: \", test_data.shape)"
   ]
  },
  {
   "cell_type": "code",
   "execution_count": 5,
   "metadata": {},
   "outputs": [],
   "source": [
    "# Create Validation data\n",
    "X_train, X_val, y_train, y_val = train_test_split(X, y, test_size = .2, random_state = 42)"
   ]
  },
  {
   "cell_type": "code",
   "execution_count": 6,
   "metadata": {},
   "outputs": [
    {
     "name": "stdout",
     "output_type": "stream",
     "text": [
      "X_train:  (33600, 784)\n",
      "y_train:  (33600, 10)\n",
      "X_val:  (8400, 784)\n",
      "y_val:  (8400, 10)\n"
     ]
    }
   ],
   "source": [
    "print(\"X_train: \", X_train.shape)\n",
    "print(\"y_train: \", y_train.shape)\n",
    "print(\"X_val: \", X_val.shape)\n",
    "print(\"y_val: \", y_val.shape)"
   ]
  },
  {
   "cell_type": "code",
   "execution_count": 7,
   "metadata": {},
   "outputs": [],
   "source": [
    "X_train = X_train.values.reshape(-1,28,28,1)\n",
    "X_val = X_val.values.reshape(-1,28,28,1)\n",
    "test_data = test_data.values.reshape(-1,28,28,1)"
   ]
  },
  {
   "cell_type": "code",
   "execution_count": 8,
   "metadata": {},
   "outputs": [],
   "source": [
    "im_kernel = np.ones((3,3), np.uint8)\n",
    "def ApplyEdgeDetection(data):  \n",
    "    kernel_sharpening = np.array([[-1,-1,-1], [-1, 10,-1],[-1,-1,-1]])\n",
    "    kernel_sharpening2 = np.array([[0,-1,0], [-1, 12,-1],[0,-1,0]])\n",
    "    edge_data = []\n",
    "    for i in data:\n",
    "        sharpened = cv2.filter2D(np.uint8(i[:,:,0]),-1, kernel_sharpening)\n",
    "        ret, threshold_img = cv2.threshold(sharpened, 70,255, cv2.THRESH_BINARY)\n",
    "        edge_data.append(threshold_img)\n",
    "    return np.array(edge_data)\n",
    "\n",
    "X_train = ApplyEdgeDetection(X_train)\n",
    "X_val = ApplyEdgeDetection(X_val)\n",
    "test_data = ApplyEdgeDetection(test_data)\n"
   ]
  },
  {
   "cell_type": "code",
   "execution_count": 9,
   "metadata": {},
   "outputs": [],
   "source": [
    "# print(X_train[0])"
   ]
  },
  {
   "cell_type": "code",
   "execution_count": 10,
   "metadata": {},
   "outputs": [
    {
     "name": "stdout",
     "output_type": "stream",
     "text": [
      "X_train:  (33600, 28, 28, 1)\n",
      "y_train:  (33600, 10)\n",
      "X_val:  (8400, 28, 28, 1)\n",
      "y_val:  (8400, 10)\n"
     ]
    }
   ],
   "source": [
    "X_train = scaler.fit_transform(X_train.reshape(-1, 28*28))\n",
    "X_val = scaler.fit_transform(X_val.reshape(-1, 28*28))\n",
    "test_data = scaler.fit_transform(test_data.reshape(-1, 28*28))\n",
    "\n",
    "X_train = X_train.reshape(-1,28,28,1)\n",
    "X_val = X_val.reshape(-1,28,28,1)\n",
    "test_data = test_data.reshape(-1,28,28,1)\n",
    "print(\"X_train: \", X_train.shape)\n",
    "print(\"y_train: \", y_train.shape)\n",
    "print(\"X_val: \", X_val.shape)\n",
    "print(\"y_val: \", y_val.shape)"
   ]
  },
  {
   "cell_type": "code",
   "execution_count": 11,
   "metadata": {},
   "outputs": [
    {
     "data": {
      "image/png": "[encoded data removed]",
      "text/plain": [
       "<Figure size 1080x1080 with 6 Axes>"
      ]
     },
     "metadata": {
      "needs_background": "light"
     },
     "output_type": "display_data"
    }
   ],
   "source": [
    "# Show some images\n",
    "# f = plt.figure()\n",
    "# f.add_subplot(1,2,1)\n",
    "# plt.imshow(X_train[0][:,:,0], cmap='gray')\n",
    "# plt.title(y_train[0])\n",
    "# f.add_subplot(1,2,2)\n",
    "# plt.imshow(X_train[1][:,:,0], cmap='gray')\n",
    "# plt.title(y_train[1])\n",
    "# plt.show()    \n",
    "plot_size = 6\n",
    "f = plt.figure(figsize=(15,15))\n",
    "for i in range(plot_size):\n",
    "    f.add_subplot(1,plot_size,i+1)\n",
    "    plt.imshow(X_train[i][:,:,0], cmap='gray')\n",
    "#     plt.title(y_train[i])\n",
    "    plt.axis('off')\n",
    "plt.show()"
   ]
  },
  {
   "cell_type": "code",
   "execution_count": 12,
   "metadata": {},
   "outputs": [],
   "source": [
    "datagen = ImageDataGenerator(\n",
    "        featurewise_center=False,  # set input mean to 0 over the dataset\n",
    "        samplewise_center=False,  # set each sample mean to 0\n",
    "        featurewise_std_normalization=False,  # divide inputs by std of the dataset\n",
    "        samplewise_std_normalization=False,  # divide each input by its std\n",
    "        zca_whitening=False,  # dimesion reduction\n",
    "        rotation_range=15,  # randomly rotate images in the range 5 degrees\n",
    "        zoom_range = 0.2, # Randomly zoom image 5%\n",
    "        width_shift_range=0.2,  # randomly shift images horizontally 5%\n",
    "        height_shift_range=0.2,  # randomly shift images vertically 5%\n",
    "        horizontal_flip=False,  # randomly flip images\n",
    "        vertical_flip=False)  # randomly flip images\n",
    "   \n",
    "datagen.fit(X_train)"
   ]
  },
  {
   "cell_type": "code",
   "execution_count": 13,
   "metadata": {},
   "outputs": [
    {
     "name": "stdout",
     "output_type": "stream",
     "text": [
      "Model: \"sequential_1\"\n",
      "_________________________________________________________________\n",
      "Layer (type)                 Output Shape              Param #   \n",
      "=================================================================\n",
      "conv2d_1 (Conv2D)            (None, 28, 28, 32)        320       \n",
      "_________________________________________________________________\n",
      "conv2d_2 (Conv2D)            (None, 28, 28, 32)        9248      \n",
      "_________________________________________________________________\n",
      "batch_normalization_1 (Batch (None, 28, 28, 32)        128       \n",
      "_________________________________________________________________\n",
      "max_pooling2d_1 (MaxPooling2 (None, 14, 14, 32)        0         \n",
      "_________________________________________________________________\n",
      "dropout_1 (Dropout)          (None, 14, 14, 32)        0         \n",
      "_________________________________________________________________\n",
      "conv2d_3 (Conv2D)            (None, 14, 14, 64)        51264     \n",
      "_________________________________________________________________\n",
      "conv2d_4 (Conv2D)            (None, 14, 14, 64)        102464    \n",
      "_________________________________________________________________\n",
      "batch_normalization_2 (Batch (None, 14, 14, 64)        256       \n",
      "_________________________________________________________________\n",
      "max_pooling2d_2 (MaxPooling2 (None, 4, 4, 64)          0         \n",
      "_________________________________________________________________\n",
      "dropout_2 (Dropout)          (None, 4, 4, 64)          0         \n",
      "_________________________________________________________________\n",
      "conv2d_5 (Conv2D)            (None, 4, 4, 128)         204928    \n",
      "_________________________________________________________________\n",
      "conv2d_6 (Conv2D)            (None, 4, 4, 128)         409728    \n",
      "_________________________________________________________________\n",
      "batch_normalization_3 (Batch (None, 4, 4, 128)         512       \n",
      "_________________________________________________________________\n",
      "max_pooling2d_3 (MaxPooling2 (None, 2, 2, 128)         0         \n",
      "_________________________________________________________________\n",
      "dropout_3 (Dropout)          (None, 2, 2, 128)         0         \n",
      "_________________________________________________________________\n",
      "flatten_1 (Flatten)          (None, 512)               0         \n",
      "_________________________________________________________________\n",
      "dense_1 (Dense)              (None, 512)               262656    \n",
      "_________________________________________________________________\n",
      "dropout_4 (Dropout)          (None, 512)               0         \n",
      "_________________________________________________________________\n",
      "dense_2 (Dense)              (None, 1024)              525312    \n",
      "_________________________________________________________________\n",
      "dropout_5 (Dropout)          (None, 1024)              0         \n",
      "_________________________________________________________________\n",
      "dense_3 (Dense)              (None, 10)                10250     \n",
      "=================================================================\n",
      "Total params: 1,577,066\n",
      "Trainable params: 1,576,618\n",
      "Non-trainable params: 448\n",
      "_________________________________________________________________\n"
     ]
    }
   ],
   "source": [
    "model = Sequential()\n",
    "\n",
    "# 1\n",
    "model.add(Conv2D(filters = 32, kernel_size = (3,3), padding='same', activation='relu', strides=(1,1), input_shape=(28,28,1)))\n",
    "model.add(Conv2D(filters = 32, kernel_size = (3,3), padding='same', strides=(1,1), activation='relu'))\n",
    "model.add(BatchNormalization())\n",
    "model.add(MaxPool2D(padding='same', pool_size=(2,2)))\n",
    "model.add(Dropout(0.2))\n",
    "\n",
    "# 2\n",
    "model.add(Conv2D(filters = 64, kernel_size = (5,5), padding='same', strides=(1,1), activation='relu'))\n",
    "model.add(Conv2D(filters = 64, kernel_size = (5,5), padding='same', strides=(1,1), activation='relu'))\n",
    "model.add(BatchNormalization())\n",
    "model.add(MaxPool2D(padding='same', pool_size=(4,4)))\n",
    "model.add(Dropout(0.2))\n",
    "\n",
    "# 3\n",
    "model.add(Conv2D(filters = 128, kernel_size = (5,5), padding='same', strides=(1,1), activation='relu'))\n",
    "model.add(Conv2D(filters = 128, kernel_size = (5,5), padding='same', strides=(1,1), activation='relu'))\n",
    "model.add(BatchNormalization())\n",
    "model.add(MaxPool2D(padding='same', pool_size=(2,2)))\n",
    "model.add(Dropout(0.2))\n",
    "\n",
    "\n",
    "# fully connected\n",
    "model.add(Flatten())\n",
    "model.add(Dense(units=512, activation='relu'))\n",
    "model.add(Dropout(0.2))\n",
    "model.add(Dense(units=1024, activation='relu'))\n",
    "model.add(Dropout(0.2))\n",
    "model.add(Dense(units=10, activation = 'softmax'))\n",
    "\n",
    "model.summary()"
   ]
  },
  {
   "cell_type": "code",
   "execution_count": 14,
   "metadata": {},
   "outputs": [],
   "source": [
    "model.compile(optimizer = keras.optimizers.Adam() , loss = keras.losses.categorical_crossentropy, metrics=[\"accuracy\"])"
   ]
  },
  {
   "cell_type": "code",
   "execution_count": 15,
   "metadata": {},
   "outputs": [
    {
     "name": "stdout",
     "output_type": "stream",
     "text": [
      "Epoch 1/200\n",
      "1050/1050 [==============================] - 20s 19ms/step - loss: 0.5143 - accuracy: 0.8358 - val_loss: 0.1125 - val_accuracy: 0.9677\n",
      "Epoch 2/200\n",
      "1050/1050 [==============================] - 16s 15ms/step - loss: 0.1754 - accuracy: 0.9528 - val_loss: 0.1161 - val_accuracy: 0.9694\n",
      "Epoch 3/200\n",
      "1050/1050 [==============================] - 15s 15ms/step - loss: 0.1351 - accuracy: 0.9639 - val_loss: 0.0839 - val_accuracy: 0.9761\n",
      "Epoch 4/200\n",
      "1050/1050 [==============================] - 16s 15ms/step - loss: 0.1220 - accuracy: 0.9675 - val_loss: 0.0523 - val_accuracy: 0.9852\n",
      "Epoch 5/200\n",
      "1050/1050 [==============================] - 16s 15ms/step - loss: 0.1179 - accuracy: 0.9702 - val_loss: 0.0447 - val_accuracy: 0.9881\n",
      "Epoch 6/200\n",
      "1050/1050 [==============================] - 16s 15ms/step - loss: 0.1033 - accuracy: 0.9732 - val_loss: 0.0349 - val_accuracy: 0.9887\n",
      "Epoch 7/200\n",
      "1050/1050 [==============================] - 16s 15ms/step - loss: 0.0952 - accuracy: 0.9759 - val_loss: 0.0511 - val_accuracy: 0.9861\n",
      "Epoch 8/200\n",
      "1050/1050 [==============================] - 16s 15ms/step - loss: 0.0905 - accuracy: 0.9765 - val_loss: 0.0488 - val_accuracy: 0.9862\n",
      "Epoch 9/200\n",
      "1050/1050 [==============================] - 16s 15ms/step - loss: 0.0845 - accuracy: 0.9783 - val_loss: 0.0413 - val_accuracy: 0.9890\n",
      "Epoch 10/200\n",
      "1050/1050 [==============================] - 16s 15ms/step - loss: 0.0864 - accuracy: 0.9794 - val_loss: 0.0519 - val_accuracy: 0.9867\n",
      "Epoch 11/200\n",
      "1050/1050 [==============================] - 16s 15ms/step - loss: 0.0809 - accuracy: 0.9803 - val_loss: 0.0415 - val_accuracy: 0.9882\n",
      "Epoch 12/200\n",
      "1050/1050 [==============================] - 16s 15ms/step - loss: 0.0739 - accuracy: 0.9807 - val_loss: 0.0533 - val_accuracy: 0.9849\n",
      "Epoch 13/200\n",
      "1050/1050 [==============================] - 15s 15ms/step - loss: 0.0694 - accuracy: 0.9826 - val_loss: 0.0672 - val_accuracy: 0.9862\n",
      "Epoch 14/200\n",
      "1050/1050 [==============================] - 15s 15ms/step - loss: 0.0695 - accuracy: 0.9830 - val_loss: 0.0329 - val_accuracy: 0.9914\n",
      "Epoch 15/200\n",
      "1050/1050 [==============================] - 16s 15ms/step - loss: 0.0647 - accuracy: 0.9835 - val_loss: 0.0346 - val_accuracy: 0.9904\n",
      "Epoch 16/200\n",
      "1050/1050 [==============================] - 16s 15ms/step - loss: 0.0636 - accuracy: 0.9843 - val_loss: 0.0252 - val_accuracy: 0.9932\n",
      "Epoch 17/200\n",
      "1050/1050 [==============================] - 15s 15ms/step - loss: 0.0614 - accuracy: 0.9835 - val_loss: 0.0404 - val_accuracy: 0.9901\n",
      "Epoch 18/200\n",
      "1050/1050 [==============================] - 16s 15ms/step - loss: 0.0634 - accuracy: 0.9849 - val_loss: 0.0377 - val_accuracy: 0.9893\n",
      "Epoch 19/200\n",
      "1050/1050 [==============================] - 15s 15ms/step - loss: 0.0615 - accuracy: 0.9844 - val_loss: 0.0349 - val_accuracy: 0.9907\n",
      "Epoch 20/200\n",
      "1050/1050 [==============================] - 16s 15ms/step - loss: 0.0580 - accuracy: 0.9848 - val_loss: 0.0263 - val_accuracy: 0.9929\n",
      "Epoch 21/200\n",
      "1050/1050 [==============================] - 16s 15ms/step - loss: 0.0529 - accuracy: 0.9862 - val_loss: 0.0246 - val_accuracy: 0.9930\n",
      "Epoch 22/200\n",
      "1050/1050 [==============================] - 16s 15ms/step - loss: 0.0558 - accuracy: 0.9863 - val_loss: 0.0338 - val_accuracy: 0.9919\n",
      "Epoch 23/200\n",
      "1050/1050 [==============================] - 16s 16ms/step - loss: 0.0443 - accuracy: 0.9885 - val_loss: 0.0253 - val_accuracy: 0.9920\n",
      "Epoch 30/200\n",
      "1050/1050 [==============================] - 16s 15ms/step - loss: 0.0437 - accuracy: 0.9889 - val_loss: 0.0230 - val_accuracy: 0.9929\n",
      "Epoch 31/200\n",
      "1050/1050 [==============================] - 16s 15ms/step - loss: 0.0466 - accuracy: 0.9876 - val_loss: 0.0311 - val_accuracy: 0.9925\n",
      "Epoch 32/200\n",
      "1050/1050 [==============================] - 16s 15ms/step - loss: 0.0439 - accuracy: 0.9887 - val_loss: 0.0235 - val_accuracy: 0.9930\n",
      "Epoch 33/200\n",
      "1050/1050 [==============================] - 16s 15ms/step - loss: 0.0431 - accuracy: 0.9885 - val_loss: 0.0259 - val_accuracy: 0.9933\n",
      "Epoch 34/200\n",
      "1050/1050 [==============================] - 15s 15ms/step - loss: 0.0362 - accuracy: 0.9902 - val_loss: 0.0289 - val_accuracy: 0.9923\n",
      "Epoch 35/200\n",
      "1050/1050 [==============================] - 15s 15ms/step - loss: 0.0401 - accuracy: 0.9891 - val_loss: 0.0488 - val_accuracy: 0.9881\n",
      "Epoch 36/200\n",
      "1050/1050 [==============================] - 16s 15ms/step - loss: 0.0393 - accuracy: 0.9899 - val_loss: 0.0301 - val_accuracy: 0.9921\n",
      "Epoch 37/200\n",
      "1050/1050 [==============================] - 16s 15ms/step - loss: 0.0390 - accuracy: 0.9898 - val_loss: 0.0275 - val_accuracy: 0.9925\n",
      "Epoch 38/200\n",
      "1050/1050 [==============================] - 16s 15ms/step - loss: 0.0386 - accuracy: 0.9904 - val_loss: 0.0282 - val_accuracy: 0.9932\n",
      "Epoch 39/200\n",
      "1050/1050 [==============================] - 15s 15ms/step - loss: 0.0376 - accuracy: 0.9890 - val_loss: 0.0362 - val_accuracy: 0.9914\n",
      "Epoch 40/200\n",
      "1050/1050 [==============================] - 15s 15ms/step - loss: 0.0357 - accuracy: 0.9901 - val_loss: 0.0246 - val_accuracy: 0.9943\n",
      "Epoch 41/200\n",
      "1050/1050 [==============================] - 15s 15ms/step - loss: 0.0408 - accuracy: 0.9899 - val_loss: 0.0414 - val_accuracy: 0.9901\n",
      "Epoch 42/200\n",
      "1050/1050 [==============================] - 16s 15ms/step - loss: 0.0370 - accuracy: 0.9901 - val_loss: 0.0291 - val_accuracy: 0.9930\n",
      "Epoch 43/200\n",
      "1050/1050 [==============================] - 15s 15ms/step - loss: 0.0370 - accuracy: 0.9896 - val_loss: 0.0234 - val_accuracy: 0.9936\n",
      "Epoch 44/200\n",
      "1050/1050 [==============================] - 15s 15ms/step - loss: 0.0359 - accuracy: 0.9908 - val_loss: 0.0204 - val_accuracy: 0.9936\n",
      "Epoch 45/200\n",
      "1050/1050 [==============================] - 16s 15ms/step - loss: 0.0335 - accuracy: 0.9912 - val_loss: 0.0275 - val_accuracy: 0.9921\n",
      "Epoch 46/200\n",
      "1050/1050 [==============================] - 16s 15ms/step - loss: 0.0374 - accuracy: 0.9902 - val_loss: 0.0263 - val_accuracy: 0.9925\n",
      "Epoch 47/200\n",
      "1050/1050 [==============================] - 15s 15ms/step - loss: 0.0355 - accuracy: 0.9903 - val_loss: 0.0289 - val_accuracy: 0.9927\n",
      "Epoch 48/200\n",
      "1050/1050 [==============================] - 16s 15ms/step - loss: 0.0337 - accuracy: 0.9916 - val_loss: 0.0275 - val_accuracy: 0.9924\n",
      "Epoch 49/200\n",
      "1050/1050 [==============================] - 16s 15ms/step - loss: 0.0358 - accuracy: 0.9902 - val_loss: 0.0300 - val_accuracy: 0.9929\n",
      "Epoch 50/200\n",
      "1050/1050 [==============================] - 16s 15ms/step - loss: 0.0343 - accuracy: 0.9910 - val_loss: 0.0348 - val_accuracy: 0.9914\n",
      "Epoch 51/200\n",
      "1050/1050 [==============================] - 16s 15ms/step - loss: 0.0318 - accuracy: 0.9923 - val_loss: 0.0257 - val_accuracy: 0.9939\n",
      "Epoch 52/200\n",
      "1050/1050 [==============================] - 16s 15ms/step - loss: 0.0326 - accuracy: 0.9914 - val_loss: 0.0319 - val_accuracy: 0.9924\n",
      "Epoch 53/200\n",
      "1050/1050 [==============================] - 16s 15ms/step - loss: 0.0255 - accuracy: 0.9937 - val_loss: 0.0303 - val_accuracy: 0.9937\n",
      "Epoch 126/200\n",
      "1050/1050 [==============================] - 15s 15ms/step - loss: 0.0265 - accuracy: 0.9937 - val_loss: 0.0281 - val_accuracy: 0.9936\n",
      "Epoch 127/200\n",
      "1050/1050 [==============================] - 15s 15ms/step - loss: 0.0264 - accuracy: 0.9937 - val_loss: 0.0313 - val_accuracy: 0.9943\n",
      "Epoch 159/200\n",
      "1050/1050 [==============================] - 15s 15ms/step - loss: 0.0247 - accuracy: 0.9940 - val_loss: 0.0267 - val_accuracy: 0.9946\n",
      "Epoch 160/200\n",
      "1050/1050 [==============================] - 15s 15ms/step - loss: 0.0239 - accuracy: 0.9940 - val_loss: 0.0322 - val_accuracy: 0.9923\n",
      "Epoch 191/200\n",
      "1050/1050 [==============================] - 15s 15ms/step - loss: 0.0225 - accuracy: 0.9943 - val_loss: 4.7528 - val_accuracy: 0.9926\n",
      "Epoch 192/200\n",
      " 669/1050 [==================>...........] - ETA: 5s - loss: 0.0280 - accuracy: 0.9937"
     ]
    }
   ],
   "source": [
    "history = model.fit_generator(datagen.flow(X_train,y_train, batch_size = 32),\n",
    "                              steps_per_epoch= len(X_train)//32,\n",
    "                              epochs = 200,\n",
    "                              validation_data = (X_val,y_val),\n",
    "                              )"
   ]
  },
  {
   "cell_type": "code",
   "execution_count": 16,
   "metadata": {},
   "outputs": [
    {
     "name": "stdout",
     "output_type": "stream",
     "text": [
      "8400/8400 [==============================] - 1s 105us/step\n",
      "Score: 0.03215084367071886\n",
      "Acc: 0.9939285516738892\n"
     ]
    }
   ],
   "source": [
    "score, acc = model.evaluate(X_val, y_val)\n",
    "print(\"Score:\", score)\n",
    "print(\"Acc:\", acc)"
   ]
  },
  {
   "cell_type": "code",
   "execution_count": 17,
   "metadata": {},
   "outputs": [
    {
     "data": {
      "image/png": "[encoded data removed]",
      "text/plain": [
       "<Figure size 432x288 with 1 Axes>"
      ]
     },
     "metadata": {
      "needs_background": "light"
     },
     "output_type": "display_data"
    }
   ],
   "source": [
    "plt.plot(history.history['loss'])\n",
    "plt.plot(history.history['val_loss'])\n",
    "plt.title('model loss')\n",
    "plt.ylabel('loss')\n",
    "plt.xlabel('epoch')\n",
    "plt.legend(['train', 'test'], loc='upper left')\n",
    "plt.show()"
   ]
  },
  {
   "cell_type": "code",
   "execution_count": 18,
   "metadata": {},
   "outputs": [],
   "source": [
    "# Test Result\n",
    "results = model.predict(test_data)\n",
    "results = np.argmax(results, 1)\n",
    "results = pd.Series(results,name=\"Label\")\n",
    "submission = pd.concat([pd.Series(range(1,28001),name = \"ImageId\"),results],axis = 1)\n",
    "submission.to_csv(\"CNN.csv\",index=False)"
   ]
  },
  {
   "cell_type": "code",
   "execution_count": null,
   "metadata": {},
   "outputs": [],
   "source": []
  }
 ],
 "metadata": {
  "kernelspec": {
   "display_name": "Python 3",
   "language": "python",
   "name": "python3"
  },
  "language_info": {
   "codemirror_mode": {
    "name": "ipython",
    "version": 3
   },
   "file_extension": ".py",
   "mimetype": "text/x-python",
   "name": "python",
   "nbconvert_exporter": "python",
   "pygments_lexer": "ipython3",
   "version": "3.6.6"
  }
 },
 "nbformat": 4,
 "nbformat_minor": 1
}
